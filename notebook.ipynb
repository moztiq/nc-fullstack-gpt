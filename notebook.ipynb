{
 "cells": [
  {
   "cell_type": "code",
   "outputs": [],
   "source": [
    "import os\n",
    "\n",
    "from dotenv import dotenv_values\n",
    "from langchain.memory import ConversationSummaryBufferMemory\n",
    "from langchain.chat_models import ChatOpenAI\n",
    "\n",
    "env_vars = dotenv_values('.env')\n",
    "os.environ['OPENAI_API_KEY'] = env_vars.get('OPENAI_API_KEY')\n",
    "\n",
    "llm = ChatOpenAI(temperature=0.1)\n",
    "\n",
    "# 대화를 요약해서 저장\n",
    "memory = ConversationSummaryBufferMemory(\n",
    "    llm=llm,\n",
    "    max_token_limit=50,\n",
    "    return_messages=True\n",
    ")\n",
    "\n",
    "\n",
    "def add_message(input, output):\n",
    "    memory.save_context({\"input\": input}, {\"output\": output})\n",
    "\n",
    "\n",
    "def get_history():\n",
    "    return memory.load_memory_variables({})\n",
    "\n",
    "\n",
    "add_message(\"Hi, I'm moztiq, I live in South Korea\", \"Wow that is so cool!\")\n"
   ],
   "metadata": {
    "collapsed": false,
    "ExecuteTime": {
     "end_time": "2024-01-04T07:45:05.206911Z",
     "start_time": "2024-01-04T07:45:05.194941Z"
    }
   },
   "id": "7c570307bbdcda67",
   "execution_count": 77
  },
  {
   "cell_type": "code",
   "outputs": [
    {
     "data": {
      "text/plain": "{'history': [HumanMessage(content=\"Hi, I'm moztiq, I live in South Korea\"),\n  AIMessage(content='Wow that is so cool!')]}"
     },
     "execution_count": 78,
     "metadata": {},
     "output_type": "execute_result"
    }
   ],
   "source": [
    "get_history()"
   ],
   "metadata": {
    "collapsed": false,
    "ExecuteTime": {
     "end_time": "2024-01-04T07:45:05.216158Z",
     "start_time": "2024-01-04T07:45:05.210553Z"
    }
   },
   "id": "fac171098bf10ba6",
   "execution_count": 78
  },
  {
   "cell_type": "code",
   "outputs": [],
   "source": [
    "add_message(\"South Korea is so pretty\", \"I wish I could go!\")\n"
   ],
   "metadata": {
    "collapsed": false,
    "ExecuteTime": {
     "end_time": "2024-01-04T07:45:06.476804Z",
     "start_time": "2024-01-04T07:45:05.214640Z"
    }
   },
   "id": "7c87434dbbf146c",
   "execution_count": 79
  },
  {
   "cell_type": "code",
   "outputs": [
    {
     "data": {
      "text/plain": "{'history': [SystemMessage(content='The human introduces themselves as moztiq and mentions that they live in South Korea.'),\n  AIMessage(content='Wow that is so cool!'),\n  HumanMessage(content='South Korea is so pretty'),\n  AIMessage(content='I wish I could go!')]}"
     },
     "execution_count": 80,
     "metadata": {},
     "output_type": "execute_result"
    }
   ],
   "source": [
    "get_history()"
   ],
   "metadata": {
    "collapsed": false,
    "ExecuteTime": {
     "end_time": "2024-01-04T07:45:06.483215Z",
     "start_time": "2024-01-04T07:45:06.479941Z"
    }
   },
   "id": "e3edca52debe7583",
   "execution_count": 80
  },
  {
   "cell_type": "code",
   "outputs": [],
   "source": [
    "add_message(\"How far is Korea from Argentina?\", \"I don't know! Super far!\")\n"
   ],
   "metadata": {
    "collapsed": false,
    "ExecuteTime": {
     "end_time": "2024-01-04T07:45:08.080360Z",
     "start_time": "2024-01-04T07:45:06.484658Z"
    }
   },
   "id": "c896f11690505326",
   "execution_count": 81
  },
  {
   "cell_type": "code",
   "outputs": [
    {
     "data": {
      "text/plain": "{'history': [SystemMessage(content=\"The human introduces themselves as moztiq and mentions that they live in South Korea. The AI responds with enthusiasm, saying that it thinks it's cool.\"),\n  HumanMessage(content='South Korea is so pretty'),\n  AIMessage(content='I wish I could go!'),\n  HumanMessage(content='How far is Korea from Argentina?'),\n  AIMessage(content=\"I don't know! Super far!\")]}"
     },
     "execution_count": 82,
     "metadata": {},
     "output_type": "execute_result"
    }
   ],
   "source": [
    "get_history()"
   ],
   "metadata": {
    "collapsed": false,
    "ExecuteTime": {
     "end_time": "2024-01-04T07:45:08.087904Z",
     "start_time": "2024-01-04T07:45:08.080995Z"
    }
   },
   "id": "6c6c6e56fc6442aa",
   "execution_count": 82
  },
  {
   "cell_type": "code",
   "outputs": [],
   "source": [
    "add_message(\"How far is Brazil from Argentina?\", \"I don't know! Super far!\")\n",
    "add_message(\"How far is Portugal from Argentina?\", \"I don't know! Super far!\")\n"
   ],
   "metadata": {
    "collapsed": false,
    "ExecuteTime": {
     "end_time": "2024-01-04T07:45:15.263865Z",
     "start_time": "2024-01-04T07:45:08.089789Z"
    }
   },
   "id": "3af20155131bacdd",
   "execution_count": 83
  },
  {
   "cell_type": "code",
   "outputs": [
    {
     "data": {
      "text/plain": "{'history': [SystemMessage(content=\"The human introduces themselves as moztiq and mentions that they live in South Korea. The AI responds with enthusiasm, saying that it thinks it's cool and expresses a desire to go. The human mentions that South Korea is pretty. The AI then admits that it doesn't know how far Korea is from Argentina. The human asks how far Brazil is from Argentina.\"),\n  AIMessage(content=\"I don't know! Super far!\"),\n  HumanMessage(content='How far is Portugal from Argentina?'),\n  AIMessage(content=\"I don't know! Super far!\")]}"
     },
     "execution_count": 84,
     "metadata": {},
     "output_type": "execute_result"
    }
   ],
   "source": [
    "get_history()"
   ],
   "metadata": {
    "collapsed": false,
    "ExecuteTime": {
     "end_time": "2024-01-04T07:45:15.273268Z",
     "start_time": "2024-01-04T07:45:15.267428Z"
    }
   },
   "id": "e40b63c54c399bac",
   "execution_count": 84
  }
 ],
 "metadata": {
  "kernelspec": {
   "display_name": "Python 3",
   "language": "python",
   "name": "python3"
  },
  "language_info": {
   "codemirror_mode": {
    "name": "ipython",
    "version": 2
   },
   "file_extension": ".py",
   "mimetype": "text/x-python",
   "name": "python",
   "nbconvert_exporter": "python",
   "pygments_lexer": "ipython2",
   "version": "2.7.6"
  }
 },
 "nbformat": 4,
 "nbformat_minor": 5
}
