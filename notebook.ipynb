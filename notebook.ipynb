{
 "cells": [
  {
   "cell_type": "code",
   "outputs": [
    {
     "name": "stdout",
     "output_type": "stream",
     "text": [
      "\u001B[32;1m\u001B[1;3m[llm/start]\u001B[0m \u001B[1m[1:llm:ChatOpenAI] Entering LLM run with input:\n",
      "\u001B[0m{\n",
      "  \"prompts\": [\n",
      "    \"Human: How do you make Italian pasta?\"\n",
      "  ]\n",
      "}\n",
      "\u001B[36;1m\u001B[1;3m[llm/end]\u001B[0m \u001B[1m[1:llm:ChatOpenAI] [15.52s] Exiting LLM run with output:\n",
      "\u001B[0m{\n",
      "  \"generations\": [\n",
      "    [\n",
      "      {\n",
      "        \"text\": \"To make Italian pasta, you will need the following ingredients and steps:\\n\\nIngredients:\\n- 2 cups of all-purpose flour\\n- 2 large eggs\\n- 1/2 teaspoon of salt\\n- Water (if needed)\\n\\nSteps:\\n1. On a clean surface or in a large mixing bowl, create a well with the flour.\\n2. Crack the eggs into the well and add the salt.\\n3. Using a fork, gradually mix the eggs and salt into the flour, incorporating a little bit at a time.\\n4. Once the dough starts to come together, use your hands to knead it until it forms a smooth and elastic ball. If the dough feels too dry, you can add a little water, teaspoon by teaspoon, until it reaches the desired consistency.\\n5. Once the dough is formed, cover it with a clean kitchen towel and let it rest for about 30 minutes. This allows the gluten to relax and makes it easier to roll out the pasta.\\n6. After resting, divide the dough into smaller portions for easier handling.\\n7. Take one portion and flatten it with your hands or a rolling pin until it is thin enough to fit through a pasta machine or to be rolled out by hand.\\n8. If using a pasta machine, start with the widest setting and pass the dough through it. Gradually decrease the setting with each pass until you reach the desired thickness. If rolling by hand, continue to roll the dough until it is thin and even.\\n9. Once the dough is rolled out, you can cut it into your desired pasta shape. Common shapes include fettuccine, spaghetti, or lasagna sheets.\\n10. If making long pasta shapes like spaghetti, you can hang them on a pasta drying rack or lay them flat on a clean surface to dry slightly before cooking.\\n11. To cook the pasta, bring a large pot of salted water to a boil. Add the pasta and cook until al dente, which means it should still have a slight bite to it.\\n12. Drain the cooked pasta and serve it with your favorite sauce, such as marinara, Alfredo, or pesto.\\n\\nEnjoy your homemade Italian pasta!\",\n",
      "        \"generation_info\": {\n",
      "          \"finish_reason\": \"stop\"\n",
      "        },\n",
      "        \"type\": \"ChatGeneration\",\n",
      "        \"message\": {\n",
      "          \"lc\": 1,\n",
      "          \"type\": \"constructor\",\n",
      "          \"id\": [\n",
      "            \"langchain\",\n",
      "            \"schema\",\n",
      "            \"messages\",\n",
      "            \"AIMessage\"\n",
      "          ],\n",
      "          \"kwargs\": {\n",
      "            \"content\": \"To make Italian pasta, you will need the following ingredients and steps:\\n\\nIngredients:\\n- 2 cups of all-purpose flour\\n- 2 large eggs\\n- 1/2 teaspoon of salt\\n- Water (if needed)\\n\\nSteps:\\n1. On a clean surface or in a large mixing bowl, create a well with the flour.\\n2. Crack the eggs into the well and add the salt.\\n3. Using a fork, gradually mix the eggs and salt into the flour, incorporating a little bit at a time.\\n4. Once the dough starts to come together, use your hands to knead it until it forms a smooth and elastic ball. If the dough feels too dry, you can add a little water, teaspoon by teaspoon, until it reaches the desired consistency.\\n5. Once the dough is formed, cover it with a clean kitchen towel and let it rest for about 30 minutes. This allows the gluten to relax and makes it easier to roll out the pasta.\\n6. After resting, divide the dough into smaller portions for easier handling.\\n7. Take one portion and flatten it with your hands or a rolling pin until it is thin enough to fit through a pasta machine or to be rolled out by hand.\\n8. If using a pasta machine, start with the widest setting and pass the dough through it. Gradually decrease the setting with each pass until you reach the desired thickness. If rolling by hand, continue to roll the dough until it is thin and even.\\n9. Once the dough is rolled out, you can cut it into your desired pasta shape. Common shapes include fettuccine, spaghetti, or lasagna sheets.\\n10. If making long pasta shapes like spaghetti, you can hang them on a pasta drying rack or lay them flat on a clean surface to dry slightly before cooking.\\n11. To cook the pasta, bring a large pot of salted water to a boil. Add the pasta and cook until al dente, which means it should still have a slight bite to it.\\n12. Drain the cooked pasta and serve it with your favorite sauce, such as marinara, Alfredo, or pesto.\\n\\nEnjoy your homemade Italian pasta!\",\n",
      "            \"additional_kwargs\": {}\n",
      "          }\n",
      "        }\n",
      "      }\n",
      "    ]\n",
      "  ],\n",
      "  \"llm_output\": {\n",
      "    \"token_usage\": {\n",
      "      \"prompt_tokens\": 14,\n",
      "      \"completion_tokens\": 438,\n",
      "      \"total_tokens\": 452\n",
      "    },\n",
      "    \"model_name\": \"gpt-3.5-turbo\",\n",
      "    \"system_fingerprint\": null\n",
      "  },\n",
      "  \"run\": null\n",
      "}\n"
     ]
    },
    {
     "data": {
      "text/plain": "'To make Italian pasta, you will need the following ingredients and steps:\\n\\nIngredients:\\n- 2 cups of all-purpose flour\\n- 2 large eggs\\n- 1/2 teaspoon of salt\\n- Water (if needed)\\n\\nSteps:\\n1. On a clean surface or in a large mixing bowl, create a well with the flour.\\n2. Crack the eggs into the well and add the salt.\\n3. Using a fork, gradually mix the eggs and salt into the flour, incorporating a little bit at a time.\\n4. Once the dough starts to come together, use your hands to knead it until it forms a smooth and elastic ball. If the dough feels too dry, you can add a little water, teaspoon by teaspoon, until it reaches the desired consistency.\\n5. Once the dough is formed, cover it with a clean kitchen towel and let it rest for about 30 minutes. This allows the gluten to relax and makes it easier to roll out the pasta.\\n6. After resting, divide the dough into smaller portions for easier handling.\\n7. Take one portion and flatten it with your hands or a rolling pin until it is thin enough to fit through a pasta machine or to be rolled out by hand.\\n8. If using a pasta machine, start with the widest setting and pass the dough through it. Gradually decrease the setting with each pass until you reach the desired thickness. If rolling by hand, continue to roll the dough until it is thin and even.\\n9. Once the dough is rolled out, you can cut it into your desired pasta shape. Common shapes include fettuccine, spaghetti, or lasagna sheets.\\n10. If making long pasta shapes like spaghetti, you can hang them on a pasta drying rack or lay them flat on a clean surface to dry slightly before cooking.\\n11. To cook the pasta, bring a large pot of salted water to a boil. Add the pasta and cook until al dente, which means it should still have a slight bite to it.\\n12. Drain the cooked pasta and serve it with your favorite sauce, such as marinara, Alfredo, or pesto.\\n\\nEnjoy your homemade Italian pasta!'"
     },
     "execution_count": 1,
     "metadata": {},
     "output_type": "execute_result"
    }
   ],
   "source": [
    "import os\n",
    "\n",
    "from dotenv import dotenv_values\n",
    "from langchain.chat_models import ChatOpenAI\n",
    "from langchain.callbacks import StreamingStdOutCallbackHandler\n",
    "from langchain.globals import set_llm_cache, set_debug\n",
    "from langchain.cache import InMemoryCache, SQLiteCache\n",
    "\n",
    "env_vars = dotenv_values('.env')\n",
    "os.environ['OPENAI_API_KEY'] = env_vars.get('OPENAI_API_KEY')\n",
    "\n",
    "set_llm_cache(SQLiteCache(\"cache.db\"))\n",
    "set_debug(True)\n",
    "\n",
    "chat = ChatOpenAI(\n",
    "    temperature=0.1,\n",
    "    # streaming=True,\n",
    "    # callbacks=[\n",
    "    #     StreamingStdOutCallbackHandler(),\n",
    "    # ]\n",
    ")\n",
    "\n",
    "chat.predict(\"How do you make Italian pasta?\")\n",
    "\n"
   ],
   "metadata": {
    "collapsed": false,
    "ExecuteTime": {
     "end_time": "2024-01-04T04:05:48.515167Z",
     "start_time": "2024-01-04T04:05:32.355490Z"
    }
   },
   "id": "7c570307bbdcda67",
   "execution_count": 1
  },
  {
   "cell_type": "code",
   "outputs": [
    {
     "name": "stdout",
     "output_type": "stream",
     "text": [
      "\u001B[32;1m\u001B[1;3m[llm/start]\u001B[0m \u001B[1m[1:llm:ChatOpenAI] Entering LLM run with input:\n",
      "\u001B[0m{\n",
      "  \"prompts\": [\n",
      "    \"Human: How do you make Italian pasta?\"\n",
      "  ]\n",
      "}\n",
      "\u001B[36;1m\u001B[1;3m[llm/end]\u001B[0m \u001B[1m[1:llm:ChatOpenAI] [2ms] Exiting LLM run with output:\n",
      "\u001B[0m{\n",
      "  \"generations\": [\n",
      "    [\n",
      "      {\n",
      "        \"text\": \"To make Italian pasta, you will need the following ingredients and steps:\\n\\nIngredients:\\n- 2 cups of all-purpose flour\\n- 2 large eggs\\n- 1/2 teaspoon of salt\\n- Water (if needed)\\n\\nSteps:\\n1. On a clean surface or in a large mixing bowl, create a well with the flour.\\n2. Crack the eggs into the well and add the salt.\\n3. Using a fork, gradually mix the eggs and salt into the flour, incorporating a little bit at a time.\\n4. Once the dough starts to come together, use your hands to knead it until it forms a smooth and elastic ball. If the dough feels too dry, you can add a little water, teaspoon by teaspoon, until it reaches the desired consistency.\\n5. Once the dough is formed, cover it with a clean kitchen towel and let it rest for about 30 minutes. This allows the gluten to relax and makes it easier to roll out the pasta.\\n6. After resting, divide the dough into smaller portions for easier handling.\\n7. Take one portion and flatten it with your hands or a rolling pin until it is thin enough to fit through a pasta machine or to be rolled out by hand.\\n8. If using a pasta machine, start with the widest setting and pass the dough through it. Gradually decrease the setting with each pass until you reach the desired thickness. If rolling by hand, continue to roll the dough until it is thin and even.\\n9. Once the dough is rolled out, you can cut it into your desired pasta shape. Common shapes include fettuccine, spaghetti, or lasagna sheets.\\n10. If making long pasta shapes like spaghetti, you can hang them on a pasta drying rack or lay them flat on a clean surface to dry slightly before cooking.\\n11. To cook the pasta, bring a large pot of salted water to a boil. Add the pasta and cook until al dente, which means it should still have a slight bite to it.\\n12. Drain the cooked pasta and serve it with your favorite sauce, such as marinara, Alfredo, or pesto.\\n\\nEnjoy your homemade Italian pasta!\",\n",
      "        \"generation_info\": {\n",
      "          \"finish_reason\": \"stop\"\n",
      "        },\n",
      "        \"type\": \"ChatGeneration\",\n",
      "        \"message\": {\n",
      "          \"lc\": 1,\n",
      "          \"type\": \"constructor\",\n",
      "          \"id\": [\n",
      "            \"langchain\",\n",
      "            \"schema\",\n",
      "            \"messages\",\n",
      "            \"AIMessage\"\n",
      "          ],\n",
      "          \"kwargs\": {\n",
      "            \"content\": \"To make Italian pasta, you will need the following ingredients and steps:\\n\\nIngredients:\\n- 2 cups of all-purpose flour\\n- 2 large eggs\\n- 1/2 teaspoon of salt\\n- Water (if needed)\\n\\nSteps:\\n1. On a clean surface or in a large mixing bowl, create a well with the flour.\\n2. Crack the eggs into the well and add the salt.\\n3. Using a fork, gradually mix the eggs and salt into the flour, incorporating a little bit at a time.\\n4. Once the dough starts to come together, use your hands to knead it until it forms a smooth and elastic ball. If the dough feels too dry, you can add a little water, teaspoon by teaspoon, until it reaches the desired consistency.\\n5. Once the dough is formed, cover it with a clean kitchen towel and let it rest for about 30 minutes. This allows the gluten to relax and makes it easier to roll out the pasta.\\n6. After resting, divide the dough into smaller portions for easier handling.\\n7. Take one portion and flatten it with your hands or a rolling pin until it is thin enough to fit through a pasta machine or to be rolled out by hand.\\n8. If using a pasta machine, start with the widest setting and pass the dough through it. Gradually decrease the setting with each pass until you reach the desired thickness. If rolling by hand, continue to roll the dough until it is thin and even.\\n9. Once the dough is rolled out, you can cut it into your desired pasta shape. Common shapes include fettuccine, spaghetti, or lasagna sheets.\\n10. If making long pasta shapes like spaghetti, you can hang them on a pasta drying rack or lay them flat on a clean surface to dry slightly before cooking.\\n11. To cook the pasta, bring a large pot of salted water to a boil. Add the pasta and cook until al dente, which means it should still have a slight bite to it.\\n12. Drain the cooked pasta and serve it with your favorite sauce, such as marinara, Alfredo, or pesto.\\n\\nEnjoy your homemade Italian pasta!\",\n",
      "            \"additional_kwargs\": {}\n",
      "          }\n",
      "        }\n",
      "      }\n",
      "    ]\n",
      "  ],\n",
      "  \"llm_output\": null,\n",
      "  \"run\": null\n",
      "}\n"
     ]
    },
    {
     "data": {
      "text/plain": "'To make Italian pasta, you will need the following ingredients and steps:\\n\\nIngredients:\\n- 2 cups of all-purpose flour\\n- 2 large eggs\\n- 1/2 teaspoon of salt\\n- Water (if needed)\\n\\nSteps:\\n1. On a clean surface or in a large mixing bowl, create a well with the flour.\\n2. Crack the eggs into the well and add the salt.\\n3. Using a fork, gradually mix the eggs and salt into the flour, incorporating a little bit at a time.\\n4. Once the dough starts to come together, use your hands to knead it until it forms a smooth and elastic ball. If the dough feels too dry, you can add a little water, teaspoon by teaspoon, until it reaches the desired consistency.\\n5. Once the dough is formed, cover it with a clean kitchen towel and let it rest for about 30 minutes. This allows the gluten to relax and makes it easier to roll out the pasta.\\n6. After resting, divide the dough into smaller portions for easier handling.\\n7. Take one portion and flatten it with your hands or a rolling pin until it is thin enough to fit through a pasta machine or to be rolled out by hand.\\n8. If using a pasta machine, start with the widest setting and pass the dough through it. Gradually decrease the setting with each pass until you reach the desired thickness. If rolling by hand, continue to roll the dough until it is thin and even.\\n9. Once the dough is rolled out, you can cut it into your desired pasta shape. Common shapes include fettuccine, spaghetti, or lasagna sheets.\\n10. If making long pasta shapes like spaghetti, you can hang them on a pasta drying rack or lay them flat on a clean surface to dry slightly before cooking.\\n11. To cook the pasta, bring a large pot of salted water to a boil. Add the pasta and cook until al dente, which means it should still have a slight bite to it.\\n12. Drain the cooked pasta and serve it with your favorite sauce, such as marinara, Alfredo, or pesto.\\n\\nEnjoy your homemade Italian pasta!'"
     },
     "execution_count": 2,
     "metadata": {},
     "output_type": "execute_result"
    }
   ],
   "source": [
    "chat.predict(\"How do you make Italian pasta?\")"
   ],
   "metadata": {
    "collapsed": false,
    "ExecuteTime": {
     "end_time": "2024-01-04T04:06:18.981227Z",
     "start_time": "2024-01-04T04:06:18.976091Z"
    }
   },
   "id": "3e98b6587ec1e68d",
   "execution_count": 2
  },
  {
   "cell_type": "code",
   "outputs": [],
   "source": [],
   "metadata": {
    "collapsed": false
   },
   "id": "7fbf12acd8671e84"
  }
 ],
 "metadata": {
  "kernelspec": {
   "display_name": "Python 3",
   "language": "python",
   "name": "python3"
  },
  "language_info": {
   "codemirror_mode": {
    "name": "ipython",
    "version": 2
   },
   "file_extension": ".py",
   "mimetype": "text/x-python",
   "name": "python",
   "nbconvert_exporter": "python",
   "pygments_lexer": "ipython2",
   "version": "2.7.6"
  }
 },
 "nbformat": 4,
 "nbformat_minor": 5
}
