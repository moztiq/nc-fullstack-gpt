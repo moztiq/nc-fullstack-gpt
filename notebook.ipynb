{
 "cells": [
  {
   "cell_type": "code",
   "outputs": [
    {
     "name": "stdout",
     "output_type": "stream",
     "text": [
      "\u001B[32;1m\u001B[1;3m[llm/start]\u001B[0m \u001B[1m[1:llm:ChatOpenAI] Entering LLM run with input:\n",
      "\u001B[0m{\n",
      "  \"prompts\": [\n",
      "    \"Human: How do you make Italian pasta?\"\n",
      "  ]\n",
      "}\n",
      "\u001B[36;1m\u001B[1;3m[llm/end]\u001B[0m \u001B[1m[1:llm:ChatOpenAI] [11.77s] Exiting LLM run with output:\n",
      "\u001B[0m{\n",
      "  \"generations\": [\n",
      "    [\n",
      "      {\n",
      "        \"text\": \"To make Italian pasta, follow these steps:\\n\\n1. Boil water: Fill a large pot with water and bring it to a rolling boil. Add salt to the water to enhance the flavor of the pasta.\\n\\n2. Add pasta: Once the water is boiling, add the pasta to the pot. Use about 100 grams of pasta per person, or adjust according to your preference.\\n\\n3. Cook pasta: Cook the pasta according to the package instructions or until it reaches the desired level of tenderness. Italian pasta is typically cooked al dente, which means it should still have a slight bite to it.\\n\\n4. Make the sauce: While the pasta is cooking, prepare the sauce. There are numerous Italian pasta sauces to choose from, such as tomato-based sauces like marinara or bolognese, cream-based sauces like Alfredo, or olive oil-based sauces like aglio e olio. Select your preferred sauce and follow a recipe or make it according to your taste.\\n\\n5. Drain pasta: Once the pasta is cooked, carefully drain it in a colander, reserving a small amount of the cooking water if needed for the sauce.\\n\\n6. Combine pasta and sauce: Return the drained pasta to the pot and add the prepared sauce. Toss the pasta gently to coat it evenly with the sauce. If the sauce is too thick, you can add a small amount of the reserved cooking water to loosen it up.\\n\\n7. Serve: Transfer the pasta to serving plates or bowls and garnish with grated Parmesan cheese, fresh herbs, or any other desired toppings. Serve immediately while it's still hot.\\n\\nRemember, Italian pasta dishes offer endless possibilities, so feel free to experiment with different types of pasta, sauces, and toppings to create your own unique combinations.\",\n",
      "        \"generation_info\": {\n",
      "          \"finish_reason\": \"stop\"\n",
      "        },\n",
      "        \"type\": \"ChatGeneration\",\n",
      "        \"message\": {\n",
      "          \"lc\": 1,\n",
      "          \"type\": \"constructor\",\n",
      "          \"id\": [\n",
      "            \"langchain\",\n",
      "            \"schema\",\n",
      "            \"messages\",\n",
      "            \"AIMessage\"\n",
      "          ],\n",
      "          \"kwargs\": {\n",
      "            \"content\": \"To make Italian pasta, follow these steps:\\n\\n1. Boil water: Fill a large pot with water and bring it to a rolling boil. Add salt to the water to enhance the flavor of the pasta.\\n\\n2. Add pasta: Once the water is boiling, add the pasta to the pot. Use about 100 grams of pasta per person, or adjust according to your preference.\\n\\n3. Cook pasta: Cook the pasta according to the package instructions or until it reaches the desired level of tenderness. Italian pasta is typically cooked al dente, which means it should still have a slight bite to it.\\n\\n4. Make the sauce: While the pasta is cooking, prepare the sauce. There are numerous Italian pasta sauces to choose from, such as tomato-based sauces like marinara or bolognese, cream-based sauces like Alfredo, or olive oil-based sauces like aglio e olio. Select your preferred sauce and follow a recipe or make it according to your taste.\\n\\n5. Drain pasta: Once the pasta is cooked, carefully drain it in a colander, reserving a small amount of the cooking water if needed for the sauce.\\n\\n6. Combine pasta and sauce: Return the drained pasta to the pot and add the prepared sauce. Toss the pasta gently to coat it evenly with the sauce. If the sauce is too thick, you can add a small amount of the reserved cooking water to loosen it up.\\n\\n7. Serve: Transfer the pasta to serving plates or bowls and garnish with grated Parmesan cheese, fresh herbs, or any other desired toppings. Serve immediately while it's still hot.\\n\\nRemember, Italian pasta dishes offer endless possibilities, so feel free to experiment with different types of pasta, sauces, and toppings to create your own unique combinations.\",\n",
      "            \"additional_kwargs\": {}\n",
      "          }\n",
      "        }\n",
      "      }\n",
      "    ]\n",
      "  ],\n",
      "  \"llm_output\": {\n",
      "    \"token_usage\": {\n",
      "      \"prompt_tokens\": 14,\n",
      "      \"completion_tokens\": 356,\n",
      "      \"total_tokens\": 370\n",
      "    },\n",
      "    \"model_name\": \"gpt-3.5-turbo\",\n",
      "    \"system_fingerprint\": null\n",
      "  },\n",
      "  \"run\": null\n",
      "}\n"
     ]
    },
    {
     "data": {
      "text/plain": "\"To make Italian pasta, follow these steps:\\n\\n1. Boil water: Fill a large pot with water and bring it to a rolling boil. Add salt to the water to enhance the flavor of the pasta.\\n\\n2. Add pasta: Once the water is boiling, add the pasta to the pot. Use about 100 grams of pasta per person, or adjust according to your preference.\\n\\n3. Cook pasta: Cook the pasta according to the package instructions or until it reaches the desired level of tenderness. Italian pasta is typically cooked al dente, which means it should still have a slight bite to it.\\n\\n4. Make the sauce: While the pasta is cooking, prepare the sauce. There are numerous Italian pasta sauces to choose from, such as tomato-based sauces like marinara or bolognese, cream-based sauces like Alfredo, or olive oil-based sauces like aglio e olio. Select your preferred sauce and follow a recipe or make it according to your taste.\\n\\n5. Drain pasta: Once the pasta is cooked, carefully drain it in a colander, reserving a small amount of the cooking water if needed for the sauce.\\n\\n6. Combine pasta and sauce: Return the drained pasta to the pot and add the prepared sauce. Toss the pasta gently to coat it evenly with the sauce. If the sauce is too thick, you can add a small amount of the reserved cooking water to loosen it up.\\n\\n7. Serve: Transfer the pasta to serving plates or bowls and garnish with grated Parmesan cheese, fresh herbs, or any other desired toppings. Serve immediately while it's still hot.\\n\\nRemember, Italian pasta dishes offer endless possibilities, so feel free to experiment with different types of pasta, sauces, and toppings to create your own unique combinations.\""
     },
     "execution_count": 29,
     "metadata": {},
     "output_type": "execute_result"
    }
   ],
   "source": [
    "import os\n",
    "\n",
    "from dotenv import dotenv_values\n",
    "from langchain.chat_models import ChatOpenAI\n",
    "from langchain.callbacks import StreamingStdOutCallbackHandler\n",
    "from langchain.globals import set_llm_cache, set_debug\n",
    "from langchain.cache import InMemoryCache\n",
    "\n",
    "env_vars = dotenv_values('.env')\n",
    "os.environ['OPENAI_API_KEY'] = env_vars.get('OPENAI_API_KEY')\n",
    "\n",
    "set_llm_cache(InMemoryCache())\n",
    "set_debug(True)\n",
    "\n",
    "chat = ChatOpenAI(\n",
    "    temperature=0.1,\n",
    "    # streaming=True,\n",
    "    # callbacks=[\n",
    "    #     StreamingStdOutCallbackHandler(),\n",
    "    # ]\n",
    ")\n",
    "\n",
    "chat.predict(\"How do you make Italian pasta?\")\n",
    "\n"
   ],
   "metadata": {
    "collapsed": false,
    "ExecuteTime": {
     "end_time": "2024-01-04T04:03:15.526470Z",
     "start_time": "2024-01-04T04:03:03.743871Z"
    }
   },
   "id": "7c570307bbdcda67",
   "execution_count": 29
  },
  {
   "cell_type": "code",
   "outputs": [
    {
     "data": {
      "text/plain": "'To make Italian pasta, follow these steps:\\n\\n1. Start by boiling a large pot of water. Add salt to the water to enhance the flavor of the pasta.\\n\\n2. Once the water is boiling, add the pasta to the pot. The amount of pasta depends on how many servings you want to make. Typically, 2 ounces (about 57 grams) of dried pasta per person is a good estimate.\\n\\n3. Cook the pasta according to the package instructions. Different types of pasta have different cooking times, so make sure to check the package for the recommended cooking time. Stir occasionally to prevent the pasta from sticking together.\\n\\n4. While the pasta is cooking, prepare the sauce. Italian pasta can be served with various sauces such as tomato-based sauces, cream-based sauces, or olive oil-based sauces. Choose your preferred sauce and prepare it separately.\\n\\n5. Once the pasta is cooked al dente (firm to the bite), drain it in a colander. Reserve a small amount of the pasta cooking water, as it can be used to adjust the consistency of the sauce later.\\n\\n6. Add the drained pasta to the saucepan with the prepared sauce. Toss the pasta gently to coat it evenly with the sauce. If the sauce seems too thick, add a little bit of the reserved pasta cooking water to thin it out.\\n\\n7. Serve the Italian pasta hot, garnished with grated Parmesan cheese, fresh herbs, or any other desired toppings.\\n\\nRemember, Italian pasta can be customized with various ingredients such as vegetables, meat, seafood, or herbs, depending on your preferences. Enjoy your homemade Italian pasta!'"
     },
     "execution_count": 28,
     "metadata": {},
     "output_type": "execute_result"
    }
   ],
   "source": [
    "chat.predict(\"How do you make Italian pasta?\")"
   ],
   "metadata": {
    "collapsed": false,
    "ExecuteTime": {
     "end_time": "2024-01-04T04:02:54.759064Z",
     "start_time": "2024-01-04T04:02:54.753809Z"
    }
   },
   "id": "3e98b6587ec1e68d",
   "execution_count": 28
  },
  {
   "cell_type": "code",
   "outputs": [],
   "source": [],
   "metadata": {
    "collapsed": false
   },
   "id": "7fbf12acd8671e84"
  }
 ],
 "metadata": {
  "kernelspec": {
   "display_name": "Python 3",
   "language": "python",
   "name": "python3"
  },
  "language_info": {
   "codemirror_mode": {
    "name": "ipython",
    "version": 2
   },
   "file_extension": ".py",
   "mimetype": "text/x-python",
   "name": "python",
   "nbconvert_exporter": "python",
   "pygments_lexer": "ipython2",
   "version": "2.7.6"
  }
 },
 "nbformat": 4,
 "nbformat_minor": 5
}
