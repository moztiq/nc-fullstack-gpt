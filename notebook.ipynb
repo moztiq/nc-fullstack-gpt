{
 "cells": [
  {
   "cell_type": "code",
   "execution_count": 28,
   "outputs": [
    {
     "name": "stdout",
     "output_type": "stream",
     "text": [
      "Great choice! Korean cuisine is known for its bold flavors and unique combinations. One popular dish you can try making is Bibimbap. It's a delicious and nutritious rice bowl topped with various vegetables, meat, and a fried egg. Here's a simple recipe for you:\n",
      "\n",
      "Ingredients:\n",
      "- 2 cups cooked short-grain rice\n",
      "- 1 carrot, julienned\n",
      "- 1 zucchini, julienned\n",
      "- 1 cup spinach\n",
      "- 1 cup bean sprouts\n",
      "- 200g beef (or substitute with tofu or chicken), thinly sliced\n",
      "- 2 tablespoons soy sauce\n",
      "- 1 tablespoon sesame oil\n",
      "- 2 cloves garlic, minced\n",
      "- 2 tablespoons vegetable oil\n",
      "- 4 eggs\n",
      "- Salt and pepper to taste\n",
      "- Gochujang (Korean chili paste), to serve (optional)\n",
      "- Sesame seeds, for garnish\n",
      "\n",
      "Instructions:\n",
      "1. Marinate the beef (or tofu/chicken) in soy sauce, sesame oil, minced garlic, salt, and pepper for about 15 minutes.\n",
      "2. Heat 1 tablespoon of vegetable oil in a pan over medium heat. Stir-fry the marinated beef (or tofu/chicken) until cooked through. Set aside.\n",
      "3. In the same pan, add another tablespoon of vegetable oil and stir-fry the carrots, zucchini, spinach, and bean sprouts separately until each is slightly cooked but still retains some crunch. Season each vegetable with a pinch of salt and pepper while cooking. Set aside.\n",
      "4. In a separate pan, fry the eggs sunny-side up or to your preference.\n",
      "5. To assemble the bibimbap, divide the cooked rice into four bowls. Arrange the cooked vegetables and beef (or tofu/chicken) on top of the rice.\n",
      "6. Place a fried egg on each bowl and garnish with sesame seeds.\n",
      "7. Serve the bibimbap with gochujang on the side for those who enjoy a spicy kick.\n",
      "8. Mix everything together before eating to combine all the flavors.\n",
      "\n",
      "Enjoy your homemade Bibimbap! It's a versatile dish, so feel free to customize it with your favorite vegetables or protein options.For this Bibimbap recipe, there are a few alternative ingredients you can use to make it vegetarian:\n",
      "1. Beef: You can substitute the beef with tofu or tempeh. To prepare tofu, drain and press it to remove excess water, then cut it into thin slices or cubes. Marinate the tofu in the same soy sauce, sesame oil, minced garlic, salt, and pepper mixture as mentioned in the recipe. For tempeh, crumble or slice it thinly and marinate it in the same way as tofu.\n",
      "2. Eggs: If you prefer to make the dish vegan, you can omit the eggs or replace them with scrambled tofu. To make scrambled tofu, crumble firm tofu and season it with salt, pepper, and turmeric for a yellow color. Cook it in a pan with a little oil until heated through.\n",
      "3. Gochujang: Gochujang is a Korean chili paste that adds a spicy kick to the dish. If you don't have gochujang or prefer a milder flavor, you can use sriracha sauce or any other chili sauce of your choice.\n",
      "Apart from these substitutions, you can follow the recipe as it is. Enjoy your vegetarian Bibimbap!"
     ]
    },
    {
     "data": {
      "text/plain": "AIMessageChunk(content=\"For this Bibimbap recipe, there are a few alternative ingredients you can use to make it vegetarian:\\n\\n1. Beef: You can substitute the beef with tofu or tempeh. To prepare tofu, drain and press it to remove excess water, then cut it into thin slices or cubes. Marinate the tofu in the same soy sauce, sesame oil, minced garlic, salt, and pepper mixture as mentioned in the recipe. For tempeh, crumble or slice it thinly and marinate it in the same way as tofu.\\n\\n2. Eggs: If you prefer to make the dish vegan, you can omit the eggs or replace them with scrambled tofu. To make scrambled tofu, crumble firm tofu and season it with salt, pepper, and turmeric for a yellow color. Cook it in a pan with a little oil until heated through.\\n\\n3. Gochujang: Gochujang is a Korean chili paste that adds a spicy kick to the dish. If you don't have gochujang or prefer a milder flavor, you can use sriracha sauce or any other chili sauce of your choice.\\n\\nApart from these substitutions, you can follow the recipe as it is. Enjoy your vegetarian Bibimbap!\")"
     },
     "execution_count": 28,
     "metadata": {},
     "output_type": "execute_result"
    }
   ],
   "source": [
    "import os\n",
    "\n",
    "from dotenv import dotenv_values\n",
    "from langchain.chat_models import ChatOpenAI\n",
    "from langchain.prompts import ChatPromptTemplate\n",
    "from langchain.callbacks import StreamingStdOutCallbackHandler\n",
    "\n",
    "env_vars = dotenv_values('.env')\n",
    "os.environ['OPENAI_API_KEY'] = env_vars.get('OPENAI_API_KEY')\n",
    "\n",
    "chat = ChatOpenAI(\n",
    "    temperature=0.1, streaming=True, callbacks=[StreamingStdOutCallbackHandler()]\n",
    ")\n",
    "\n",
    "chef_prompt = ChatPromptTemplate.from_messages([\n",
    "    (\"system\",\n",
    "     \"You are a world-class international chef. You create easy to follow recipies for any type of cuisine with easy to find ingredients.\"),\n",
    "    (\"human\", \"I want cook {cuisine} food.\")\n",
    "])\n",
    "\n",
    "chef_chain = chef_prompt | chat\n",
    "\n",
    "veg_chef_prompt = ChatPromptTemplate.from_messages([\n",
    "    (\"system\",\n",
    "     \"You are a vegetarian chef specialized on making traditional recipes vegetarian. You find alternative ingredients and explain their preparation. You don't radically modify the recipe. If there is no alternative for a food just say you don't know how to recipe it.\"),\n",
    "    (\"human\", \"{recipe}\")\n",
    "])\n",
    "\n",
    "veg_chain = veg_chef_prompt | chat\n",
    "\n",
    "final_chain = {\"recipe\": chef_chain} | veg_chain\n",
    "final_chain.invoke({\n",
    "    \"cuisine\": \"korean\"\n",
    "})"
   ],
   "metadata": {
    "collapsed": false,
    "ExecuteTime": {
     "end_time": "2023-11-22T12:31:53.836398Z",
     "start_time": "2023-11-22T12:30:28.239698Z"
    }
   },
   "id": "7c570307bbdcda67"
  },
  {
   "cell_type": "code",
   "execution_count": null,
   "outputs": [],
   "source": [],
   "metadata": {
    "collapsed": false
   },
   "id": "c1b2e9cd46beecef"
  }
 ],
 "metadata": {
  "kernelspec": {
   "display_name": "Python 3",
   "language": "python",
   "name": "python3"
  },
  "language_info": {
   "codemirror_mode": {
    "name": "ipython",
    "version": 2
   },
   "file_extension": ".py",
   "mimetype": "text/x-python",
   "name": "python",
   "nbconvert_exporter": "python",
   "pygments_lexer": "ipython2",
   "version": "2.7.6"
  }
 },
 "nbformat": 4,
 "nbformat_minor": 5
}
