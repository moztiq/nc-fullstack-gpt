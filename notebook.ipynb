{
 "cells": [
  {
   "cell_type": "code",
   "outputs": [
    {
     "name": "stdout",
     "output_type": "stream",
     "text": [
      "\u001B[32;1m\u001B[1;3m[llm/start]\u001B[0m \u001B[1m[1:llm:ChatOpenAI] Entering LLM run with input:\n",
      "\u001B[0m{\n",
      "  \"prompts\": [\n",
      "    \"Human: What is the recipe for soju?\"\n",
      "  ]\n",
      "}\n",
      "\u001B[36;1m\u001B[1;3m[llm/end]\u001B[0m \u001B[1m[1:llm:ChatOpenAI] [15.00s] Exiting LLM run with output:\n",
      "\u001B[0m{\n",
      "  \"generations\": [\n",
      "    [\n",
      "      {\n",
      "        \"text\": \"Soju is a traditional Korean distilled alcoholic beverage. The recipe for soju involves a few simple ingredients and a fermentation process. Here's a basic recipe:\\n\\nIngredients:\\n- 1 kg of rice (short-grain rice is commonly used)\\n- 1 kg of nuruk (a Korean fermentation starter)\\n- 10 liters of water\\n- 400-500 grams of sugar (optional, for sweetness)\\n- Distilled water (for dilution)\\n\\nInstructions:\\n1. Rinse the rice thoroughly until the water runs clear. Soak the rice in water for about 1-2 hours.\\n2. Drain the soaked rice and steam it until fully cooked.\\n3. Allow the cooked rice to cool down to room temperature.\\n4. In a large container or pot, mix the cooled rice, nuruk, and water. Stir well to combine.\\n5. Cover the container with a clean cloth or plastic wrap and let it ferment for about 7-10 days at room temperature. During this time, the mixture will undergo fermentation.\\n6. After the fermentation period, strain the mixture through a cheesecloth or fine mesh strainer to remove any solids.\\n7. If desired, add sugar to the strained liquid and stir until dissolved. This step is optional and can be adjusted according to personal taste.\\n8. Transfer the liquid to airtight bottles or jars, leaving some headspace for expansion during the final fermentation.\\n9. Seal the bottles or jars tightly and let them ferment for an additional 2-3 weeks at room temperature. This will allow the flavors to develop further.\\n10. After the final fermentation, the soju can be consumed as is, or you can dilute it with distilled water to achieve your desired alcohol content. The typical alcohol content of soju ranges from 16% to 45%.\\n11. Store the finished soju in the refrigerator or a cool, dark place. It can be enjoyed chilled or at room temperature.\\n\\nPlease note that making soju at home requires careful attention to hygiene and fermentation conditions. It is also important to check local laws and regulations regarding home distillation before attempting to make soju.\",\n",
      "        \"generation_info\": {\n",
      "          \"finish_reason\": \"stop\"\n",
      "        },\n",
      "        \"type\": \"ChatGeneration\",\n",
      "        \"message\": {\n",
      "          \"lc\": 1,\n",
      "          \"type\": \"constructor\",\n",
      "          \"id\": [\n",
      "            \"langchain\",\n",
      "            \"schema\",\n",
      "            \"messages\",\n",
      "            \"AIMessage\"\n",
      "          ],\n",
      "          \"kwargs\": {\n",
      "            \"content\": \"Soju is a traditional Korean distilled alcoholic beverage. The recipe for soju involves a few simple ingredients and a fermentation process. Here's a basic recipe:\\n\\nIngredients:\\n- 1 kg of rice (short-grain rice is commonly used)\\n- 1 kg of nuruk (a Korean fermentation starter)\\n- 10 liters of water\\n- 400-500 grams of sugar (optional, for sweetness)\\n- Distilled water (for dilution)\\n\\nInstructions:\\n1. Rinse the rice thoroughly until the water runs clear. Soak the rice in water for about 1-2 hours.\\n2. Drain the soaked rice and steam it until fully cooked.\\n3. Allow the cooked rice to cool down to room temperature.\\n4. In a large container or pot, mix the cooled rice, nuruk, and water. Stir well to combine.\\n5. Cover the container with a clean cloth or plastic wrap and let it ferment for about 7-10 days at room temperature. During this time, the mixture will undergo fermentation.\\n6. After the fermentation period, strain the mixture through a cheesecloth or fine mesh strainer to remove any solids.\\n7. If desired, add sugar to the strained liquid and stir until dissolved. This step is optional and can be adjusted according to personal taste.\\n8. Transfer the liquid to airtight bottles or jars, leaving some headspace for expansion during the final fermentation.\\n9. Seal the bottles or jars tightly and let them ferment for an additional 2-3 weeks at room temperature. This will allow the flavors to develop further.\\n10. After the final fermentation, the soju can be consumed as is, or you can dilute it with distilled water to achieve your desired alcohol content. The typical alcohol content of soju ranges from 16% to 45%.\\n11. Store the finished soju in the refrigerator or a cool, dark place. It can be enjoyed chilled or at room temperature.\\n\\nPlease note that making soju at home requires careful attention to hygiene and fermentation conditions. It is also important to check local laws and regulations regarding home distillation before attempting to make soju.\",\n",
      "            \"additional_kwargs\": {}\n",
      "          }\n",
      "        }\n",
      "      }\n",
      "    ]\n",
      "  ],\n",
      "  \"llm_output\": {\n",
      "    \"token_usage\": {\n",
      "      \"prompt_tokens\": 15,\n",
      "      \"completion_tokens\": 433,\n",
      "      \"total_tokens\": 448\n",
      "    },\n",
      "    \"model_name\": \"gpt-3.5-turbo\",\n",
      "    \"system_fingerprint\": null\n",
      "  },\n",
      "  \"run\": null\n",
      "}\n",
      "Tokens Used: 448\n",
      "\tPrompt Tokens: 15\n",
      "\tCompletion Tokens: 433\n",
      "Successful Requests: 1\n",
      "Total Cost (USD): $0.0008885\n"
     ]
    }
   ],
   "source": [
    "import os\n",
    "\n",
    "from dotenv import dotenv_values\n",
    "from langchain.chat_models import ChatOpenAI\n",
    "from langchain.callbacks import get_openai_callback\n",
    "\n",
    "env_vars = dotenv_values('.env')\n",
    "os.environ['OPENAI_API_KEY'] = env_vars.get('OPENAI_API_KEY')\n",
    "\n",
    "chat = ChatOpenAI(\n",
    "    temperature=0.1,\n",
    ")\n",
    "\n",
    "with get_openai_callback() as usage:\n",
    "    chat.predict('What is the recipe for soju?')\n",
    "    print(usage)"
   ],
   "metadata": {
    "collapsed": false,
    "ExecuteTime": {
     "end_time": "2024-01-04T04:12:47.506229Z",
     "start_time": "2024-01-04T04:12:32.493069Z"
    }
   },
   "id": "7c570307bbdcda67",
   "execution_count": 3
  },
  {
   "cell_type": "code",
   "outputs": [],
   "source": [],
   "metadata": {
    "collapsed": false,
    "ExecuteTime": {
     "end_time": "2024-01-04T04:11:49.687204Z",
     "start_time": "2024-01-04T04:11:49.682918Z"
    }
   },
   "id": "7fbf12acd8671e84",
   "execution_count": 2
  },
  {
   "cell_type": "code",
   "outputs": [],
   "source": [],
   "metadata": {
    "collapsed": false
   },
   "id": "54907b5b55a65f48"
  }
 ],
 "metadata": {
  "kernelspec": {
   "display_name": "Python 3",
   "language": "python",
   "name": "python3"
  },
  "language_info": {
   "codemirror_mode": {
    "name": "ipython",
    "version": 2
   },
   "file_extension": ".py",
   "mimetype": "text/x-python",
   "name": "python",
   "nbconvert_exporter": "python",
   "pygments_lexer": "ipython2",
   "version": "2.7.6"
  }
 },
 "nbformat": 4,
 "nbformat_minor": 5
}
